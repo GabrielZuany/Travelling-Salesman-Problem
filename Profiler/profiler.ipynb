{
 "cells": [
  {
   "cell_type": "code",
   "execution_count": 1,
   "metadata": {},
   "outputs": [],
   "source": [
    "import pandas as pd\n",
    "import numpy as np\n",
    "import matplotlib.pyplot as plt"
   ]
  },
  {
   "cell_type": "code",
   "execution_count": 2,
   "metadata": {},
   "outputs": [],
   "source": [
    "benchmark_df = pd.read_csv('srcprof.csv', sep=\";\")"
   ]
  },
  {
   "cell_type": "code",
   "execution_count": 3,
   "metadata": {},
   "outputs": [
    {
     "data": {
      "text/html": [
       "<div>\n",
       "<style scoped>\n",
       "    .dataframe tbody tr th:only-of-type {\n",
       "        vertical-align: middle;\n",
       "    }\n",
       "\n",
       "    .dataframe tbody tr th {\n",
       "        vertical-align: top;\n",
       "    }\n",
       "\n",
       "    .dataframe thead th {\n",
       "        text-align: right;\n",
       "    }\n",
       "</style>\n",
       "<table border=\"1\" class=\"dataframe\">\n",
       "  <thead>\n",
       "    <tr style=\"text-align: right;\">\n",
       "      <th></th>\n",
       "      <th>N_MEMB</th>\n",
       "      <th>READ_TSP</th>\n",
       "      <th>BUILD_ALL_EDGES</th>\n",
       "      <th>SORT_EDGES</th>\n",
       "      <th>BUILD_MST</th>\n",
       "      <th>Unnamed: 5</th>\n",
       "    </tr>\n",
       "  </thead>\n",
       "  <tbody>\n",
       "    <tr>\n",
       "      <th>0</th>\n",
       "      <td>1002.0</td>\n",
       "      <td>0.052476</td>\n",
       "      <td>2.217069</td>\n",
       "      <td>1.542765</td>\n",
       "      <td>0.142423</td>\n",
       "      <td>NaN</td>\n",
       "    </tr>\n",
       "    <tr>\n",
       "      <th>1</th>\n",
       "      <td>225.0</td>\n",
       "      <td>0.048757</td>\n",
       "      <td>0.104886</td>\n",
       "      <td>0.063392</td>\n",
       "      <td>0.014516</td>\n",
       "      <td>NaN</td>\n",
       "    </tr>\n",
       "    <tr>\n",
       "      <th>2</th>\n",
       "      <td>52.0</td>\n",
       "      <td>0.044101</td>\n",
       "      <td>0.008225</td>\n",
       "      <td>0.007617</td>\n",
       "      <td>0.006463</td>\n",
       "      <td>NaN</td>\n",
       "    </tr>\n",
       "    <tr>\n",
       "      <th>3</th>\n",
       "      <td>101.0</td>\n",
       "      <td>0.041210</td>\n",
       "      <td>0.024463</td>\n",
       "      <td>0.013672</td>\n",
       "      <td>0.008883</td>\n",
       "      <td>NaN</td>\n",
       "    </tr>\n",
       "    <tr>\n",
       "      <th>4</th>\n",
       "      <td>280.0</td>\n",
       "      <td>0.042747</td>\n",
       "      <td>0.166141</td>\n",
       "      <td>0.091116</td>\n",
       "      <td>0.016455</td>\n",
       "      <td>NaN</td>\n",
       "    </tr>\n",
       "  </tbody>\n",
       "</table>\n",
       "</div>"
      ],
      "text/plain": [
       "   N_MEMB  READ_TSP  BUILD_ALL_EDGES  SORT_EDGES  BUILD_MST  Unnamed: 5\n",
       "0  1002.0  0.052476         2.217069    1.542765   0.142423         NaN\n",
       "1   225.0  0.048757         0.104886    0.063392   0.014516         NaN\n",
       "2    52.0  0.044101         0.008225    0.007617   0.006463         NaN\n",
       "3   101.0  0.041210         0.024463    0.013672   0.008883         NaN\n",
       "4   280.0  0.042747         0.166141    0.091116   0.016455         NaN"
      ]
     },
     "execution_count": 3,
     "metadata": {},
     "output_type": "execute_result"
    }
   ],
   "source": [
    "benchmark_df.head()"
   ]
  },
  {
   "cell_type": "code",
   "execution_count": 4,
   "metadata": {},
   "outputs": [],
   "source": [
    "benchmark_df.set_index(['N_MEMB'], inplace=True)\n",
    "benchmark_df.dropna(axis=1, inplace=True)"
   ]
  },
  {
   "cell_type": "code",
   "execution_count": 5,
   "metadata": {},
   "outputs": [
    {
     "data": {
      "text/html": [
       "<div>\n",
       "<style scoped>\n",
       "    .dataframe tbody tr th:only-of-type {\n",
       "        vertical-align: middle;\n",
       "    }\n",
       "\n",
       "    .dataframe tbody tr th {\n",
       "        vertical-align: top;\n",
       "    }\n",
       "\n",
       "    .dataframe thead th {\n",
       "        text-align: right;\n",
       "    }\n",
       "</style>\n",
       "<table border=\"1\" class=\"dataframe\">\n",
       "  <thead>\n",
       "    <tr style=\"text-align: right;\">\n",
       "      <th></th>\n",
       "      <th>READ_TSP</th>\n",
       "      <th>BUILD_ALL_EDGES</th>\n",
       "      <th>SORT_EDGES</th>\n",
       "      <th>BUILD_MST</th>\n",
       "    </tr>\n",
       "    <tr>\n",
       "      <th>N_MEMB</th>\n",
       "      <th></th>\n",
       "      <th></th>\n",
       "      <th></th>\n",
       "      <th></th>\n",
       "    </tr>\n",
       "  </thead>\n",
       "  <tbody>\n",
       "    <tr>\n",
       "      <th>1002.0</th>\n",
       "      <td>0.052476</td>\n",
       "      <td>2.217069</td>\n",
       "      <td>1.542765</td>\n",
       "      <td>0.142423</td>\n",
       "    </tr>\n",
       "    <tr>\n",
       "      <th>225.0</th>\n",
       "      <td>0.048757</td>\n",
       "      <td>0.104886</td>\n",
       "      <td>0.063392</td>\n",
       "      <td>0.014516</td>\n",
       "    </tr>\n",
       "    <tr>\n",
       "      <th>52.0</th>\n",
       "      <td>0.044101</td>\n",
       "      <td>0.008225</td>\n",
       "      <td>0.007617</td>\n",
       "      <td>0.006463</td>\n",
       "    </tr>\n",
       "    <tr>\n",
       "      <th>101.0</th>\n",
       "      <td>0.041210</td>\n",
       "      <td>0.024463</td>\n",
       "      <td>0.013672</td>\n",
       "      <td>0.008883</td>\n",
       "    </tr>\n",
       "    <tr>\n",
       "      <th>280.0</th>\n",
       "      <td>0.042747</td>\n",
       "      <td>0.166141</td>\n",
       "      <td>0.091116</td>\n",
       "      <td>0.016455</td>\n",
       "    </tr>\n",
       "  </tbody>\n",
       "</table>\n",
       "</div>"
      ],
      "text/plain": [
       "        READ_TSP  BUILD_ALL_EDGES  SORT_EDGES  BUILD_MST\n",
       "N_MEMB                                                  \n",
       "1002.0  0.052476         2.217069    1.542765   0.142423\n",
       "225.0   0.048757         0.104886    0.063392   0.014516\n",
       "52.0    0.044101         0.008225    0.007617   0.006463\n",
       "101.0   0.041210         0.024463    0.013672   0.008883\n",
       "280.0   0.042747         0.166141    0.091116   0.016455"
      ]
     },
     "execution_count": 5,
     "metadata": {},
     "output_type": "execute_result"
    }
   ],
   "source": [
    "benchmark_df.head()"
   ]
  },
  {
   "cell_type": "code",
   "execution_count": null,
   "metadata": {},
   "outputs": [],
   "source": []
  }
 ],
 "metadata": {
  "kernelspec": {
   "display_name": ".VirtualEnvironment",
   "language": "python",
   "name": "python3"
  },
  "language_info": {
   "codemirror_mode": {
    "name": "ipython",
    "version": 3
   },
   "file_extension": ".py",
   "mimetype": "text/x-python",
   "name": "python",
   "nbconvert_exporter": "python",
   "pygments_lexer": "ipython3",
   "version": "3.10.12"
  },
  "orig_nbformat": 4
 },
 "nbformat": 4,
 "nbformat_minor": 2
}
