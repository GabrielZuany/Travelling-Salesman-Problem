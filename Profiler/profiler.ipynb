{
 "cells": [
  {
   "cell_type": "code",
   "execution_count": null,
   "metadata": {},
   "outputs": [],
   "source": [
    "import pandas as pd\n",
    "import numpy as np\n",
    "import matplotlib.pyplot as plt"
   ]
  },
  {
   "cell_type": "code",
   "execution_count": null,
   "metadata": {},
   "outputs": [],
   "source": [
    "benchmark_df = pd.read_csv('srcprof.csv', sep=\";\")"
   ]
  },
  {
   "cell_type": "code",
   "execution_count": null,
   "metadata": {},
   "outputs": [],
   "source": [
    "benchmark_df.head()"
   ]
  },
  {
   "cell_type": "code",
   "execution_count": null,
   "metadata": {},
   "outputs": [],
   "source": [
    "benchmark_df['N_MEMB'] = np.array(benchmark_df['N_MEMB'], dtype=int)\n",
    "benchmark_df.set_index(['N_MEMB'], inplace=True)\n",
    "benchmark_df.dropna(axis=1, inplace=True)\n",
    "benchmark_df['Total'] = benchmark_df.sum(axis=1)"
   ]
  },
  {
   "cell_type": "code",
   "execution_count": null,
   "metadata": {},
   "outputs": [],
   "source": [
    "benchmark_df.sort_index(inplace=True)\n",
    "benchmark_df.head()"
   ]
  },
  {
   "cell_type": "code",
   "execution_count": null,
   "metadata": {},
   "outputs": [],
   "source": [
    "def benchmark_plot(benchmark_df:pd.DataFrame, benchmark_label:str, title:str, color:str)->None:\n",
    "    \"\"\"\n",
    "    Read benchmark data from a dataframe and plot it.\n",
    "    \"\"\"\n",
    "    df = benchmark_df[benchmark_label]\n",
    "    plt.plot(df.index, df.values, label=benchmark_label, marker='o', markersize=3, linewidth=1, color=color)\n",
    "    plt.axhline(y=df.mean(), color='r', linestyle='--', label=f'Mean: {df.mean():.3}s', alpha=0.5, linewidth=1)\n",
    "    plt.title(title)\n",
    "    plt.xlabel('Number of members')\n",
    "    plt.ylabel('Time (s)')\n",
    "    plt.grid()\n",
    "    plt.legend()\n",
    "    plt.savefig(f'{benchmark_label}.png', dpi=300)\n",
    "    "
   ]
  },
  {
   "cell_type": "code",
   "execution_count": null,
   "metadata": {},
   "outputs": [],
   "source": [
    "benchmark_plot(benchmark_df, 'READ_TSP', 'Read File Time', 'b')"
   ]
  },
  {
   "cell_type": "code",
   "execution_count": null,
   "metadata": {},
   "outputs": [],
   "source": [
    "\n",
    "benchmark_plot(benchmark_df, 'BUILD_ALL_EDGES', 'Build all edges time', 'g')"
   ]
  },
  {
   "cell_type": "code",
   "execution_count": null,
   "metadata": {},
   "outputs": [],
   "source": [
    "benchmark_plot(benchmark_df, 'SORT_EDGES', 'Sort edges time', '#FFA500')"
   ]
  },
  {
   "cell_type": "code",
   "execution_count": null,
   "metadata": {},
   "outputs": [],
   "source": [
    "benchmark_plot(benchmark_df, 'BUILD_MST', 'Build MST time', '#FF00FF')"
   ]
  },
  {
   "cell_type": "code",
   "execution_count": null,
   "metadata": {},
   "outputs": [],
   "source": [
    "# benchmark_plot(benchmark_df, 'BUILD_TOUR', 'Build tour time', 'r')"
   ]
  },
  {
   "cell_type": "code",
   "execution_count": null,
   "metadata": {},
   "outputs": [],
   "source": [
    "def benchmark_full_plot(benchmark_df):\n",
    "    df = benchmark_df\n",
    "    plt.plot(df.index, df.values, label = df.columns, marker='o', markersize=3, linewidth=1)\n",
    "    #plt.axhline(y=df.mean(), color='r', linestyle='--', label=f'Mean: {df.mean():.3}s', alpha=0.5, linewidth=1)\n",
    "    plt.title('Full Benchmark')\n",
    "    plt.xlabel('Number of members')\n",
    "    plt.ylabel('Time (s)')\n",
    "    plt.grid()\n",
    "    plt.legend()\n",
    "    plt.show()\n",
    "benchmark_full_plot(benchmark_df)"
   ]
  }
 ],
 "metadata": {
  "kernelspec": {
   "display_name": ".VirtualEnvironment",
   "language": "python",
   "name": "python3"
  },
  "language_info": {
   "codemirror_mode": {
    "name": "ipython",
    "version": 3
   },
   "file_extension": ".py",
   "mimetype": "text/x-python",
   "name": "python",
   "nbconvert_exporter": "python",
   "pygments_lexer": "ipython3",
   "version": "3.10.12"
  },
  "orig_nbformat": 4
 },
 "nbformat": 4,
 "nbformat_minor": 2
}
