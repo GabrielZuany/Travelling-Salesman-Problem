{
 "cells": [
  {
   "cell_type": "code",
   "execution_count": null,
   "metadata": {},
   "outputs": [],
   "source": [
    "# NAME: berlin52\n",
    "# COMMENT: 52 locations in Berlin (Groetschel)\n",
    "# TYPE: TSP\n",
    "# DIMENSION: 52\n",
    "# EDGE_WEIGHT_TYPE: EUC_2D\n",
    "# NODE_COORD_SECTION\n",
    "# 1 565.0 575.0\n",
    "# 2 25.0 185.0\n",
    "# 3 345.0 750.0\n",
    "\n",
    "# gen files with 10 to 15000 cities (randomly generated)\n",
    "# name = rand + number of cities + .tsp\n",
    "# format:\n",
    "# NAME: rand + number of cities\n",
    "# COMMENT: random generated\n",
    "# TYPE: TSP\n",
    "# DIMENSION: number of cities\n",
    "# EDGE_WEIGHT_TYPE: EUC_2D\n",
    "# NODE_COORD_SECTION\n",
    "# 1 x1 y1\n",
    "# 2 x2 y2\n",
    "# ..."
   ]
  },
  {
   "cell_type": "code",
   "execution_count": 10,
   "metadata": {},
   "outputs": [],
   "source": [
    "import random\n",
    "import os"
   ]
  },
  {
   "cell_type": "code",
   "execution_count": null,
   "metadata": {},
   "outputs": [],
   "source": [
    "def remove_all_rand_files():\n",
    "    print(os.listdir(\".\"))\n",
    "    for filename in os.listdir(\".\"):\n",
    "        if filename.startswith(\"rand_\"):\n",
    "            os.remove(filename)\n",
    "\n",
    "try:\n",
    "    remove_all_rand_files()\n",
    "except FileNotFoundError:\n",
    "    pass"
   ]
  },
  {
   "cell_type": "code",
   "execution_count": 14,
   "metadata": {},
   "outputs": [],
   "source": [
    "for i in range(0, 15000, 500):\n",
    "    with open(f\"rand_{i}.tsp\", \"w\") as file:\n",
    "        file.write(f\"NAME: rand_{i}\\n\")\n",
    "        file.write(\"COMMENT: random generated\\n\")\n",
    "        file.write(\"TYPE: TSP\\n\")\n",
    "        file.write(f\"DIMENSION: {i}\\n\")\n",
    "        file.write(\"EDGE_WEIGHT_TYPE: EUC_2D\\n\")\n",
    "        file.write(\"NODE_COORD_SECTION\\n\")\n",
    "        for j in range(1, i+1):\n",
    "            file.write(f\"{j} {random.randint(0, 1000)} {random.randint(0, 1000)}\\n\")\n",
    "        file.write(\"EOF\")\n",
    "        "
   ]
  }
 ],
 "metadata": {
  "kernelspec": {
   "display_name": ".VirtualEnvironment",
   "language": "python",
   "name": "python3"
  },
  "language_info": {
   "codemirror_mode": {
    "name": "ipython",
    "version": 3
   },
   "file_extension": ".py",
   "mimetype": "text/x-python",
   "name": "python",
   "nbconvert_exporter": "python",
   "pygments_lexer": "ipython3",
   "version": "3.10.12"
  },
  "orig_nbformat": 4
 },
 "nbformat": 4,
 "nbformat_minor": 2
}
